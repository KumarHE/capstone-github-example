{
 "cells": [
  {
   "cell_type": "markdown",
   "metadata": {},
   "source": [
    "# Peer-graded Assignment: Segmenting and Clustering Neighborhoods in Toronto"
   ]
  },
  {
   "cell_type": "markdown",
   "metadata": {},
   "source": []
  },
  {
   "cell_type": "markdown",
   "metadata": {},
   "source": [
    "#### Use the Notebook to build the code to scrape the following Wikipedia page,\n",
    "#### https://en.wikipedia.org/wiki/List_of_postal_codes_of_Canada:_M, \n",
    "#### in order to obtain the data that is in the table of postal codes and to transform the data into a pandas dataframe like the one shown below:"
   ]
  },
  {
   "cell_type": "markdown",
   "metadata": {},
   "source": [
    "<img src=\"po_table.png\" width=\"50%\" height=\"750%\"></img>"
   ]
  },
  {
   "cell_type": "markdown",
   "metadata": {},
   "source": [
    "#### To create the above dataframe:\n",
    "\n",
    "The dataframe will consist of three columns: PostalCode, Borough, and Neighborhood\n",
    "Only process the cells that have an assigned borough. Ignore cells with a borough that is Not assigned.\n",
    "More than one neighborhood can exist in one postal code area. For example, in the table on the Wikipedia page, you will notice that M5A is listed twice and has two neighborhoods: Harbourfront and Regent Park. These two rows will be combined into one row with the neighborhoods separated with a comma as shown in row 11 in the above table.\n",
    "If a cell has a borough but a Not assigned neighborhood, then the neighborhood will be the same as the borough. So for the 9th cell in the table on the Wikipedia page, the value of the Borough and the Neighborhood columns will be Queen's Park.\n",
    "Clean your Notebook and add Markdown cells to explain your work and any assumptions you are making.\n",
    "In the last cell of your notebook, use the .shape method to print the number of rows of your dataframe.\n",
    "Submit a link to your Notebook on your Github repository. (10 marks)\n",
    "\n",
    "Note: There are different website scraping libraries and packages in Python. For scraping the above table, you can simply use pandas to read the table into a pandas dataframe.\n",
    "\n",
    "Another way, which would help to learn for more complicated cases of web scraping is using the BeautifulSoup package. Here is the package's main documentation page: http://beautiful-soup-4.readthedocs.io/en/latest/\n",
    "\n",
    "The package is so popular that there is a plethora of tutorials and examples on how to use it. Here is a very good Youtube video on how to use the BeautifulSoup package: https://www.youtube.com/watch?v=ng2o98k983k\n",
    "\n",
    "Use pandas, or the BeautifulSoup package, or any other way you are comfortable with to transform the data in the table on the Wikipedia page into the above pandas dataframe."
   ]
  },
  {
   "cell_type": "markdown",
   "metadata": {},
   "source": [
    "## import the necessary libraries"
   ]
  },
  {
   "cell_type": "code",
   "execution_count": null,
   "metadata": {},
   "outputs": [],
   "source": []
  },
  {
   "cell_type": "code",
   "execution_count": 1,
   "metadata": {},
   "outputs": [
    {
     "name": "stdout",
     "output_type": "stream",
     "text": [
      "Libraries imported.\n"
     ]
    }
   ],
   "source": [
    "#!conda install -c conda-forge beautifulsoup4 --yes # get BeautifulSoup package\n",
    "\n",
    "import pandas as pd # library for data analsysis\n",
    "pd.set_option('display.max_columns', None)\n",
    "pd.set_option('display.max_rows', None)\n",
    "\n",
    "import requests # library to handle requests\n",
    "\n",
    "from bs4 import BeautifulSoup # to parse html file\n",
    "\n",
    "print('Libraries imported.')"
   ]
  },
  {
   "cell_type": "markdown",
   "metadata": {},
   "source": [
    "## get postcode data for toronto from wikipedia"
   ]
  },
  {
   "cell_type": "code",
   "execution_count": 24,
   "metadata": {},
   "outputs": [],
   "source": [
    "# get data from wikipedia\n",
    "source = requests.get('https://en.wikipedia.org/wiki/List_of_postal_codes_of_Canada:_M').text\n",
    "\n",
    "# convert to beautiful soup \n",
    "soup = BeautifulSoup(source, 'lxml') ##'html.parser') #'lxml')\n",
    "#print(soup)"
   ]
  },
  {
   "cell_type": "code",
   "execution_count": 131,
   "metadata": {},
   "outputs": [],
   "source": [
    "# this method return the index when element is found\n",
    "# and return -1 when element is not found\n",
    "def find_in_list(lst, value):\n",
    "    try:\n",
    "        return lst.index(value)\n",
    "    except:\n",
    "        return -1"
   ]
  },
  {
   "cell_type": "code",
   "execution_count": 158,
   "metadata": {},
   "outputs": [
    {
     "name": "stdout",
     "output_type": "stream",
     "text": [
      "  PostalCode           Borough                     Neighborhood\n",
      "0        M3A        North York                        Parkwoods\n",
      "1        M4A        North York                 Victoria Village\n",
      "2        M5A  Downtown Toronto         Harbourfront,Regent Park\n",
      "3        M6A        North York  Lawrence Heights,Lawrence Manor\n",
      "4        M7A      Queen's Park                     Queen's Park\n"
     ]
    }
   ],
   "source": [
    "# find the table in the page\n",
    "table = soup.find('table', class_=\"wikitable sortable\")\n",
    "\n",
    "# define lists to store values in each table column\n",
    "pc=[] # list for postcode\n",
    "bh=[] # list for borough\n",
    "nd=[] # list for neighborhood\n",
    "\n",
    "# loop through each row in the wiki table\n",
    "for row in table.find_all(\"tr\"):\n",
    "    try:\n",
    "        # get the column values in each row\n",
    "        col = row.find_all(\"td\")\n",
    "        \n",
    "        # rule #1: Ignore cells with a borough that is Not assigned.\n",
    "        if col[1].text != \"Not assigned\" :\n",
    "            # rule #2: when multiple neighborhood can exist in one postalcode area, \n",
    "            #          combine neignbordhood with commas\n",
    "            idx = find_in_list(pc, col[0].text)\n",
    "            #print (idx)\n",
    "            if idx > 0:\n",
    "                nd[idx] = nd[idx] + \",\" + col[2].text.replace('\\n','') # clean column value\n",
    "                \n",
    "            else:\n",
    "                pc.append(col[0].text)\n",
    "                bh.append(col[1].text)\n",
    "                # rule #3: If a cell has a borough but a 'Not assigned' neighborhood, \n",
    "                #          then the neighborhood will be the same as the borough.\n",
    "                if col[2].text.replace('\\n','') == \"Not assigned\":\n",
    "                    nd.append(col[1].text)\n",
    "                else:\n",
    "                    nd.append(col[2].text.replace('\\n','')) # clean column value\n",
    "            \n",
    "    except Exception as e:\n",
    "        pass\n",
    "\n",
    "# define column names    \n",
    "column=['PostalCode', 'Borough', 'Neighborhood']\n",
    "\n",
    "# create a dataframe from the data\n",
    "tto=pd.DataFrame({column[0]:pc,column[1]:bh, column[2]:nd})\n",
    "\n",
    "# display some rows in the dataframe\n",
    "print(tto.head())\n",
    "\n",
    "# save dataframe to csv file\n",
    "tto.to_csv('temp_toronto_postcodes_borough_neighborhood.csv',index=None)\n"
   ]
  },
  {
   "cell_type": "code",
   "execution_count": 15,
   "metadata": {},
   "outputs": [],
   "source": [
    "\n"
   ]
  },
  {
   "cell_type": "markdown",
   "metadata": {},
   "source": [
    "#### In the last cell of your notebook, use the .shape method to print the number of rows of your dataframe."
   ]
  },
  {
   "cell_type": "code",
   "execution_count": 157,
   "metadata": {},
   "outputs": [
    {
     "name": "stdout",
     "output_type": "stream",
     "text": [
      "(103, 3)\n"
     ]
    }
   ],
   "source": [
    "# print the dataframe's size \n",
    "print(tto.shape)"
   ]
  },
  {
   "cell_type": "code",
   "execution_count": null,
   "metadata": {},
   "outputs": [],
   "source": []
  }
 ],
 "metadata": {
  "kernelspec": {
   "display_name": "Python 3",
   "language": "python",
   "name": "python3"
  },
  "language_info": {
   "codemirror_mode": {
    "name": "ipython",
    "version": 3
   },
   "file_extension": ".py",
   "mimetype": "text/x-python",
   "name": "python",
   "nbconvert_exporter": "python",
   "pygments_lexer": "ipython3",
   "version": "3.6.7"
  }
 },
 "nbformat": 4,
 "nbformat_minor": 4
}
